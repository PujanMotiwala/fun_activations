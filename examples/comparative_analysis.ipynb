{
  "nbformat": 4,
  "nbformat_minor": 0,
  "metadata": {
    "colab": {
      "provenance": [],
      "authorship_tag": "ABX9TyOOgtyB9x0DquNXJtOaNdrJ",
      "include_colab_link": true
    },
    "kernelspec": {
      "name": "python3",
      "display_name": "Python 3"
    },
    "language_info": {
      "name": "python"
    }
  },
  "cells": [
    {
      "cell_type": "markdown",
      "metadata": {
        "id": "view-in-github",
        "colab_type": "text"
      },
      "source": [
        "<a href=\"https://colab.research.google.com/github/PujanMotiwala/fun_activations/blob/main/examples/comparative_analysis.ipynb\" target=\"_parent\"><img src=\"https://colab.research.google.com/assets/colab-badge.svg\" alt=\"Open In Colab\"/></a>"
      ]
    },
    {
      "cell_type": "markdown",
      "source": [
        "# Comparative Analysis of Activation Functions\n",
        "\n",
        "This notebook demonstrates the performance of different activation functions on the same dataset. We will compare ReLU, Sigmoid, Tanh, and Leaky ReLU."
      ],
      "metadata": {
        "id": "Y7rO74PGWmho"
      }
    },
    {
      "cell_type": "code",
      "execution_count": 4,
      "metadata": {
        "colab": {
          "base_uri": "https://localhost:8080/",
          "height": 393
        },
        "id": "aqSobuOvWb_t",
        "outputId": "3e033f7a-3f1d-47a2-fd16-e4718da3c3a9"
      },
      "outputs": [
        {
          "output_type": "error",
          "ename": "ModuleNotFoundError",
          "evalue": "No module named 'activation_functions'",
          "traceback": [
            "\u001b[0;31m---------------------------------------------------------------------------\u001b[0m",
            "\u001b[0;31mModuleNotFoundError\u001b[0m                       Traceback (most recent call last)",
            "\u001b[0;32m<ipython-input-4-a2d8abe5651c>\u001b[0m in \u001b[0;36m<cell line: 11>\u001b[0;34m()\u001b[0m\n\u001b[1;32m      9\u001b[0m \u001b[0;34m\u001b[0m\u001b[0m\n\u001b[1;32m     10\u001b[0m \u001b[0;31m# Import activation functions\u001b[0m\u001b[0;34m\u001b[0m\u001b[0;34m\u001b[0m\u001b[0m\n\u001b[0;32m---> 11\u001b[0;31m \u001b[0;32mfrom\u001b[0m \u001b[0mactivation_functions\u001b[0m \u001b[0;32mimport\u001b[0m \u001b[0mrelu\u001b[0m\u001b[0;34m,\u001b[0m \u001b[0msigmoid\u001b[0m\u001b[0;34m,\u001b[0m \u001b[0mtanh\u001b[0m\u001b[0;34m,\u001b[0m \u001b[0mleaky_relu\u001b[0m \u001b[0;31m#, softmax\u001b[0m\u001b[0;34m\u001b[0m\u001b[0;34m\u001b[0m\u001b[0m\n\u001b[0m\u001b[1;32m     12\u001b[0m \u001b[0;34m\u001b[0m\u001b[0m\n\u001b[1;32m     13\u001b[0m \u001b[0;31m# Generate a synthetic dataset\u001b[0m\u001b[0;34m\u001b[0m\u001b[0;34m\u001b[0m\u001b[0m\n",
            "\u001b[0;31mModuleNotFoundError\u001b[0m: No module named 'activation_functions'",
            "",
            "\u001b[0;31m---------------------------------------------------------------------------\u001b[0;32m\nNOTE: If your import is failing due to a missing package, you can\nmanually install dependencies using either !pip or !apt.\n\nTo view examples of installing some common dependencies, click the\n\"Open Examples\" button below.\n\u001b[0;31m---------------------------------------------------------------------------\u001b[0m\n"
          ],
          "errorDetails": {
            "actions": [
              {
                "action": "open_url",
                "actionText": "Open Examples",
                "url": "/notebooks/snippets/importing_libraries.ipynb"
              }
            ]
          }
        }
      ],
      "source": [
        "# Import necessary libraries\n",
        "import numpy as np\n",
        "import matplotlib.pyplot as plt\n",
        "from sklearn.datasets import make_classification\n",
        "from sklearn.model_selection import train_test_split\n",
        "from sklearn.preprocessing import StandardScaler\n",
        "from sklearn.neural_network import MLPClassifier\n",
        "from sklearn.metrics import accuracy_score\n",
        "\n",
        "# Import activation functions\n",
        "from activation_functions import relu, sigmoid, tanh, leaky_relu #, softmax\n",
        "\n",
        "# Generate a synthetic dataset\n",
        "X, y = make_classification(n_samples=1000, n_features=20, n_classes=2, random_state=42)\n",
        "X_train, X_test, y_train, y_test = train_test_split(X, y, test_size=0.3, random_state=42)\n",
        "\n",
        "# Standardize the dataset\n",
        "scaler = StandardScaler()\n",
        "X_train = scaler.fit_transform(X_train)\n",
        "X_test = scaler.transform(X_test)\n",
        "\n",
        "# Define a function to create and train a neural network with a given activation function\n",
        "def train_model(activation_fn):\n",
        "    model = MLPClassifier(hidden_layer_sizes=(100,), activation='identity', max_iter=200, random_state=42)\n",
        "\n",
        "    # Overriding the activation function\n",
        "    original_forward = model._forward_pass\n",
        "    def _forward_pass(X):\n",
        "        z = np.dot(X, model.coefs_[0]) + model.intercepts_[0]\n",
        "        a = activation_fn(z)\n",
        "        for i in range(1, model.n_layers_ - 1):\n",
        "            z = np.dot(a, model.coefs_[i]) + model.intercepts_[i]\n",
        "            a = activation_fn(z)\n",
        "        return a\n",
        "    model._forward_pass = _forward_pass\n",
        "\n",
        "    model.fit(X_train, y_train)\n",
        "    y_pred = model.predict(X_test)\n",
        "    return accuracy_score(y_test, y_pred)\n",
        "\n",
        "# Train and evaluate models with different activation functions\n",
        "activations = {\n",
        "    'ReLU': relu,\n",
        "    'Sigmoid': sigmoid,\n",
        "    'Tanh': tanh,\n",
        "    'Leaky ReLU': leaky_relu\n",
        "}\n",
        "\n",
        "results = {}\n",
        "for name, fn in activations.items():\n",
        "    accuracy = train_model(fn)\n",
        "    results[name] = accuracy\n",
        "    print(f\"{name} Accuracy: {accuracy * 100:.2f}%\")\n",
        "\n",
        "# Plot the results\n",
        "names = list(results.keys())\n",
        "values = list(results.values())\n",
        "\n",
        "plt.figure(figsize=(10, 6))\n",
        "plt.bar(names, values, color=['blue', 'green', 'red', 'purple'])\n",
        "plt.title('Comparison of Activation Functions')\n",
        "plt.xlabel('Activation Function')\n",
        "plt.ylabel('Accuracy')\n",
        "plt.ylim(0, 1)\n",
        "plt.show()\n",
        "\n",
        "# Conclusion\n",
        "print(\"This comparative analysis demonstrates the impact of different activation functions on model performance.\")"
      ]
    },
    {
      "cell_type": "code",
      "source": [],
      "metadata": {
        "id": "DzjM3ZfiWiWp"
      },
      "execution_count": null,
      "outputs": []
    }
  ]
}